{
  "nbformat": 4,
  "nbformat_minor": 0,
  "metadata": {
    "colab": {
      "name": "Svar på integralspørgsmål.ipynb",
      "provenance": [],
      "authorship_tag": "ABX9TyML1nCEwrD/dEr2o1HzvJEr",
      "include_colab_link": true
    },
    "kernelspec": {
      "name": "python3",
      "display_name": "Python 3"
    },
    "language_info": {
      "name": "python"
    }
  },
  "cells": [
    {
      "cell_type": "markdown",
      "metadata": {
        "id": "view-in-github",
        "colab_type": "text"
      },
      "source": [
        "<a href=\"https://colab.research.google.com/github/MortenSkovlundHolst/syddjursGym/blob/main/Svar_p%C3%A5_integralsp%C3%B8rgsm%C3%A5l.ipynb\" target=\"_parent\"><img src=\"https://colab.research.google.com/assets/colab-badge.svg\" alt=\"Open In Colab\"/></a>"
      ]
    },
    {
      "cell_type": "markdown",
      "metadata": {
        "id": "l0jkX7EFAZMF"
      },
      "source": [
        "### Opgave 2.0: Symbolsk matematik (svær)\n",
        "En af de vigtigeste ting, når man koder, er at kunne bruge Google (eller Duck Duck Go f.eks.) til at finde de ønskede resultater og løsnigner på problemer, som man er stødt ind i. Derfor får I nu en mere åben opgave; beregn følgende integral med biblioteket `sympy`: \n",
        "$$\\int  \\int_0^{\\pi} \\left(\\frac{x\\cdot y}{e^{y}}\\right) dx dy $$"
      ]
    },
    {
      "cell_type": "code",
      "metadata": {
        "colab": {
          "base_uri": "https://localhost:8080/"
        },
        "id": "w1dWWXEaAW_0",
        "outputId": "ae41a500-433f-41a2-85a5-e9357f6dac63"
      },
      "source": [
        "!pip install sympy # installation af sympy, hvis den ikke allerede er installeret\n",
        "\n",
        "import sympy as sym # import af sympy\n",
        "\n",
        "import numpy as np # import at numpy\n",
        "\n",
        "x,y = sym.symbols(\"x y\") # erklæring af nødvendige symboler\n",
        "\n",
        "# Opdeling i indre og ydre integral:\n",
        "indre_integral = sym.integrate( (x*y) / ( np.exp(1)**y ) , ( x, 0.0, np.pi ) )\n",
        "\n",
        "# udregning af ydre integral:\n",
        "resultat = sym.integrate( indre_integral ,y)\n",
        "\n",
        "# print af resultat:\n",
        "print()\n",
        "print(\"resultat:\")\n",
        "print(resultat)"
      ],
      "execution_count": 19,
      "outputs": [
        {
          "output_type": "stream",
          "name": "stdout",
          "text": [
            "Requirement already satisfied: sympy in /usr/local/lib/python3.7/dist-packages (1.7.1)\n",
            "Requirement already satisfied: mpmath>=0.19 in /usr/local/lib/python3.7/dist-packages (from sympy) (1.2.1)\n",
            "\n",
            "resultat:\n",
            "1.0*2.71828182845905**(-y)*(-4.93480220054468*y - 4.93480220054468)\n"
          ]
        }
      ]
    }
  ]
}