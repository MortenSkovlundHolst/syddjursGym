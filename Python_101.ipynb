{
  "nbformat": 4,
  "nbformat_minor": 0,
  "metadata": {
    "colab": {
      "name": "Python 101.ipynb",
      "provenance": [],
      "authorship_tag": "ABX9TyPXWnNgDqlMNU1jRscGk/X3",
      "include_colab_link": true
    },
    "kernelspec": {
      "name": "python3",
      "display_name": "Python 3"
    },
    "language_info": {
      "name": "python"
    }
  },
  "cells": [
    {
      "cell_type": "markdown",
      "metadata": {
        "id": "view-in-github",
        "colab_type": "text"
      },
      "source": [
        "<a href=\"https://colab.research.google.com/github/MortenSkovlundHolst/syddjursGym/blob/main/Python_101.ipynb\" target=\"_parent\"><img src=\"https://colab.research.google.com/assets/colab-badge.svg\" alt=\"Open In Colab\"/></a>"
      ]
    },
    {
      "cell_type": "markdown",
      "metadata": {
        "id": "QjxKcx_whaJC"
      },
      "source": [
        "# Python 101\n",
        "Skrevet af Morten Holst, msh@science.ku.dk, 2021-11-18.\n",
        "\n",
        "Eventuelle trykfejl skyldes for meget eller for lidt kaffe.\n",
        "## Lidt info\n",
        "Forfattet af Guido van Rossum, mens han en [jul så Monty Python i 1989.](https://docs.python.org/3/faq/general.html#why-was-python-created-in-the-first-place)\n",
        "\n",
        "Sproget er de sidste par år gået til at være et af de mest anvendte sammen med C, Java, etc.\n",
        "\n",
        "Sammenlignet med andre udmærker det sig ved at være \"meget tæt på pseudokode\", hvilket vil sige, at det er relativt let at omsætte teoretisk kode til noget, som en maskine kan køre og afvikle.\n",
        "\n",
        "## \"Jupyter\" og Google Colab\n",
        "- Jupyter (korrekt stavemåde) er en notesbog i digital form, der gør os i stand til at afvikle vores kode og skrive fancy ligninger som f.eks. $\\int x^x dx $ (kan I løse integralet?) \n",
        "\n",
        "- Denne notesbog kan afvikles i \"Google Colab\", som er et værktøj, som stiller computerkraft til rådighed på Googles servere, så vi kan afvikle kode meget, meget hurtigere, så der er mere tid til at drikke kaffe. Tænkt på det som Google Docs på steroider.  \n",
        "\n",
        "- \"Text\"-blokke er til at skrive tekst i som denne blok. De oversættes til den resulterende tekst med `shift+enter` .\n",
        "- \"Code\" er til kode, som man kan køre. Dette gøres også med `shift+enter` .\n",
        "- Det er også muligt at skrive kode i python uden Jupyter, men det vil vi ikke kigge så meget på her. Men send gerne en mail, hvis I har spørgsmål.\n",
        "- Jupyter og Google Colab muliggør også, at man kan køre al koden på blok efter blok eller starte et bestemt sted, så man ikke skal bruge tid på at genberegne noget, som ikke er nødvendigt eller allerede er udført.\n",
        "- Jeg vil klart opfordre til at kigge indstillingerne igennem (og finde den hemmelige katte-funktion).\n",
        "\n",
        "\n",
        "\n",
        "\n"
      ]
    },
    {
      "cell_type": "markdown",
      "metadata": {
        "id": "d8YaB4aekkaY"
      },
      "source": [
        "## Et par øvelsesopgaver"
      ]
    },
    {
      "cell_type": "markdown",
      "metadata": {
        "id": "hYjU2CYknp06"
      },
      "source": [
        "### Opgave 0.0: Biblioteker\n",
        "Af hensyn til begrænset hukommelse i en computer er mange funktioner noget, som man kan hente ind som et bibliotek, hvis man har brug for det. Dette gøres normalt med `import`. I nedenstående eksempel vil vi importere pakken/biblioteket \"numpy\", som er det primære værktøj til numeriske beregninger:"
      ]
    },
    {
      "cell_type": "code",
      "metadata": {
        "id": "ulgsdRwgnodC"
      },
      "source": [
        "# En kommentar til koden angives med \"#\" (som denne linje) og vil altså blive ignoreret af python\n",
        "\n",
        "# import af numpy:\n",
        "import numpy as np "
      ],
      "execution_count": 2,
      "outputs": []
    },
    {
      "cell_type": "markdown",
      "metadata": {
        "id": "l6mvrrPDpk_H"
      },
      "source": [
        "![Screenshot 2021-11-18 at 21.04.26.png](data:image/png;base64,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) viser, at koden ikke er kørt. \n",
        "\n",
        "Når kodeblokken er færdig med at køre (og ikke har sendt en fejlmeddelse!) ser den sådan ud: ![Screenshot 2021-11-18 at 21.05.33.png](data:image/png;base64,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) "
      ]
    },
    {
      "cell_type": "markdown",
      "metadata": {
        "id": "o-y7XJ6VqP5W"
      },
      "source": [
        "`as np` betyder, at vi kalder på numpy-biblioteket ved at bruge navnet \"np\".\n",
        "\n",
        "Lad os bruge numpy til at udregne $$\\sin{\\left(\\frac{\\pi}{2}\\right)}$$"
      ]
    },
    {
      "cell_type": "code",
      "metadata": {
        "colab": {
          "base_uri": "https://localhost:8080/"
        },
        "id": "8777Aq0hpx6H",
        "outputId": "7bf28258-e64d-4f0f-da88-50528dc40ab0"
      },
      "source": [
        "print( np.sin( np.pi / 2.0 ) ) # her bruger jeg print-kommandoen til først at vise os resultatet, af hvad vi vil se."
      ],
      "execution_count": 3,
      "outputs": [
        {
          "output_type": "stream",
          "name": "stdout",
          "text": [
            "1.0\n"
          ]
        }
      ]
    },
    {
      "cell_type": "markdown",
      "metadata": {
        "id": "8BW9T3QArlPX"
      },
      "source": [
        "Bemærk, at jeg kalder på `np` både til sinus-funktionen og $\\pi$."
      ]
    },
    {
      "cell_type": "markdown",
      "metadata": {
        "id": "GZ37VuiDsiJm"
      },
      "source": [
        "Prøv i nedenstående kodeblok at udregne værdien af $$ \\pi^{2.0}+e^{1.0} $$ (tip: eksponenter skrives med `**``):"
      ]
    },
    {
      "cell_type": "code",
      "metadata": {
        "id": "GGQpeeTqtArW"
      },
      "source": [
        "# (indsæt din kode i denne blok)"
      ],
      "execution_count": null,
      "outputs": []
    },
    {
      "cell_type": "markdown",
      "metadata": {
        "id": "ssMTZmO0tV5G"
      },
      "source": [
        "### Opgave 0.1: Datatyper\n",
        "- I programmering er datatyper meget vigtige, altså hvorvidt noget f.eks. er et heltal, en såkaldt \"float\" (fancy decimaltal) eller en tekststreng.\n",
        "\n",
        "- Python er et smart sprog, for den kan ofte gætte sig til, hvad du som bruger vil, men det er vigtigt at vide følgende:\n",
        "  - Heltal og floats defineres som ventet som: `2` (heltal) og `2.0` (float).\n",
        "  - Tekststrenge definerer du med `\"TEKST_HER\"` (') eller `\"TEKST_HER\"` (\")\n",
        "- Python er kendt for at være meget \"liberal\" i sin omgang med datatyper. Det er dét denne opgave handler om.\n",
        "\n",
        "Prøv at se, hvad der sker, hvis du beder python om at udregne 0.1+0.2 ved at udfylde nedenstående blok (kan I forklare det noget uventede resultat? Tip: Decimaltal i binær er mærkelige):"
      ]
    },
    {
      "cell_type": "code",
      "metadata": {
        "id": "jJsqFHeYvinT"
      },
      "source": [
        "# (indsæt din kode i denne blok)"
      ],
      "execution_count": null,
      "outputs": []
    },
    {
      "cell_type": "markdown",
      "metadata": {
        "id": "e9C8RTUHv5Q9"
      },
      "source": [
        "Givet en tekst kan man også bruge forskellige metoder til at behandle den. Hvad giver nedenstående noget meningsløse tekststreng, hvis man vender den om via nedenstående kode (Kender I resultatet?):"
      ]
    },
    {
      "cell_type": "code",
      "metadata": {
        "id": "RLZXnj9jysd6",
        "outputId": "95510787-78eb-40d7-c212-76810a54d25e",
        "colab": {
          "base_uri": "https://localhost:8080/",
          "height": 123
        }
      },
      "source": [
        "# Givet tekst vi skal oversætte:\n",
        "tekst = \"eybdoog yas annog reveN yrc uoy ekam annog reveN uoy tresed dna dnuora nur annog reveN nwod uoy tel annog reveN pu uoy evig annog reveN uoy truh dna eil a llet annog reveN eybdoog yas annog reveN yrc uoy ekam annog reveN uoy tresed dna dnuora nur annog reveN nwod uoy tel annog reveN pu uoy evig annog reveN uoy truh dna eil a llet annog reveN eybdoog yas annog reveN yrc uoy ekam annog reveN uoy tresed dna dnuora nur annog reveN nwod uoy tel annog reveN pu uoy evig annog reveN dnatsrednu uoy ekam attoG gnileef m'I woh uoy llet annaw tsuj I ti yalp annog er'ew dna emag eht wonk eW no gniog neeb s'tahw wonk htob ew edisnI ti yas ot yhs oot er'uoy tub gnihca neeb s'traeh ruoY gnol os rof rehto hcae nwonk ev'eW )pu uoy eviG( evig annog reven ,evig annog reveN uoy truh dna eil a llet annog reveN eybdoog yas annog reveN yrc uoy ekam annog reveN uoy tresed dna dnuora nur annog reveN nwod uoy tel annog reveN pu uoy evig annog reveN uoy truh dna eil a llet annog reveN eybdoog yas annog reveN yrc uoy ekam annog reveN\"\n",
        "\n",
        "# Kode der vender teksten om i omvendt rækkefølge:\n",
        "tekst[len(tekst)::-1]"
      ],
      "execution_count": 4,
      "outputs": [
        {
          "output_type": "execute_result",
          "data": {
            "application/vnd.google.colaboratory.intrinsic+json": {
              "type": "string"
            },
            "text/plain": [
              "\"Never gonna make you cry Never gonna say goodbye Never gonna tell a lie and hurt you Never gonna give you up Never gonna let you down Never gonna run around and desert you Never gonna make you cry Never gonna say goodbye Never gonna tell a lie and hurt you Never gonna give, never gonna give (Give you up) We've known each other for so long Your heart's been aching but you're too shy to say it Inside we both know what's been going on We know the game and we're gonna play it I just wanna tell you how I'm feeling Gotta make you understand Never gonna give you up Never gonna let you down Never gonna run around and desert you Never gonna make you cry Never gonna say goodbye Never gonna tell a lie and hurt you Never gonna give you up Never gonna let you down Never gonna run around and desert you Never gonna make you cry Never gonna say goodbye Never gonna tell a lie and hurt you Never gonna give you up Never gonna let you down Never gonna run around and desert you Never gonna make you cry Never gonna say goodbye\""
            ]
          },
          "metadata": {},
          "execution_count": 4
        }
      ]
    },
    {
      "cell_type": "markdown",
      "metadata": {
        "id": "g8uzCWVdzYrY"
      },
      "source": [
        "### Opgave 0.2: Plot og grafer\n",
        "Til denne opgave skal I bruge biblioteket matplotlib. Der er masser af god hjælp at finde [mange steder](https://matplotlib.org/stable/plot_types/index.html).\n",
        "\n",
        "De fleste funktioner i matplotlib bruges med underbiblioteket `matplotlib.pyplot`.\n",
        "\n",
        "Lad os plotte $$x^2,\\,x\\in[0,10]$$"
      ]
    },
    {
      "cell_type": "code",
      "metadata": {
        "colab": {
          "base_uri": "https://localhost:8080/",
          "height": 296
        },
        "id": "tQA9coqdzXrf",
        "outputId": "f429d933-9201-4fbb-8082-c266c59f86df"
      },
      "source": [
        "# impotering:\n",
        "import matplotlib.pyplot as plt\n",
        "\n",
        "# Oprettelse af variablerne x_data og y_data til vores funktion:\n",
        "x_data = np.linspace(0,10,1000)\n",
        "# Bemærk, at jeg i ovenstående bruger numpy, som vi før importerede. Hvis numpy ikke er indlæst, kan man tilsvarende importere den her.\n",
        "# Bemærk også, at jeg starter med at fortælle, hvor x skal løbe fra og til, \n",
        "# og så hvor mange punkter den skal være defineret med (altså 1000).\n",
        "\n",
        "y_data = x_data**2.0 # vores funktion: f(x) = x^2\n",
        "\n",
        "# selve plottet:\n",
        "plt.plot(x_data, y_data)\n",
        "plt.xlabel('x') # indsætter navne på akserne. MEGET VIGTIGT!\n",
        "plt.ylabel('y')"
      ],
      "execution_count": 5,
      "outputs": [
        {
          "output_type": "execute_result",
          "data": {
            "text/plain": [
              "Text(0, 0.5, 'y')"
            ]
          },
          "metadata": {},
          "execution_count": 5
        },
        {
          "output_type": "display_data",
          "data": {
            "image/png": "[encoded data removed]",
            "text/plain": [
              "<Figure size 432x288 with 1 Axes>"
            ]
          },
          "metadata": {
            "needs_background": "light"
          }
        }
      ]
    },
    {
      "cell_type": "markdown",
      "metadata": {
        "id": "pIasy4HA2Zsl"
      },
      "source": [
        "Prøv at plotte (med numpy og matplotlib.pyplot): $$\\sin{\\left( x\\right)}$$\n"
      ]
    },
    {
      "cell_type": "code",
      "metadata": {
        "id": "Raet9vec1mgW"
      },
      "source": [
        "# (indsæt din kode i denne blok)"
      ],
      "execution_count": null,
      "outputs": []
    },
    {
      "cell_type": "markdown",
      "metadata": {
        "id": "tt86JfNW43n_"
      },
      "source": [
        "Og derefter i sammen i et nyt plot: $$ \\sin{\\left( x\\right)},\\, \\cos{\\left( x\\right)},\\, \\tan{\\left( x\\right)} $$"
      ]
    },
    {
      "cell_type": "code",
      "metadata": {
        "id": "R85T_F9h4wzd"
      },
      "source": [
        "# (indsæt din kode i denne blok)"
      ],
      "execution_count": null,
      "outputs": []
    },
    {
      "cell_type": "markdown",
      "metadata": {
        "id": "irIydPW-4x-0"
      },
      "source": [
        "### Opgave 1.0: Ekstra biblioteker\n",
        "Google Colab har en masse vigtige biblioteker bygget ind, men hvis man skal bruge et, som ikke er bygget ind, så kan man hente dem på to måder (Conda og PIP). Vi vil her bruge PIP."
      ]
    },
    {
      "cell_type": "code",
      "metadata": {
        "colab": {
          "base_uri": "https://localhost:8080/",
          "height": 300
        },
        "id": "gtVoAP9u5dos",
        "outputId": "0434a0df-6a6d-43e1-c472-3b1fb0dbbd80"
      },
      "source": [
        "import cleantext"
      ],
      "execution_count": 6,
      "outputs": [
        {
          "output_type": "error",
          "ename": "ModuleNotFoundError",
          "evalue": "ignored",
          "traceback": [
            "\u001b[0;31m---------------------------------------------------------------------------\u001b[0m",
            "\u001b[0;31mModuleNotFoundError\u001b[0m                       Traceback (most recent call last)",
            "\u001b[0;32m<ipython-input-6-c2d64199872f>\u001b[0m in \u001b[0;36m<module>\u001b[0;34m()\u001b[0m\n\u001b[0;32m----> 1\u001b[0;31m \u001b[0;32mimport\u001b[0m \u001b[0mcleantext\u001b[0m\u001b[0;34m\u001b[0m\u001b[0;34m\u001b[0m\u001b[0m\n\u001b[0m",
            "\u001b[0;31mModuleNotFoundError\u001b[0m: No module named 'cleantext'",
            "",
            "\u001b[0;31m---------------------------------------------------------------------------\u001b[0;32m\nNOTE: If your import is failing due to a missing package, you can\nmanually install dependencies using either !pip or !apt.\n\nTo view examples of installing some common dependencies, click the\n\"Open Examples\" button below.\n\u001b[0;31m---------------------------------------------------------------------------\u001b[0m\n"
          ],
          "errorDetails": {
            "actions": [
              {
                "action": "open_url",
                "actionText": "Open Examples",
                "url": "/notebooks/snippets/importing_libraries.ipynb"
              }
            ]
          }
        }
      ]
    },
    {
      "cell_type": "markdown",
      "metadata": {
        "id": "29PlBNFK6DVC"
      },
      "source": [
        "Det ses fra ovenstående, at vi ikke har biblioteket `cleantext`, da vi får en fejlkode. Fejlkoden skriver faktisk, at man kan bruge `!pip` til at finde pakken. Det gør vi nu, og lidt Google-ing viser, at pakkens/bibliotekets [navn er clean-text (med bindestreg)](https://pypi.org/project/clean-text/):\n"
      ]
    },
    {
      "cell_type": "code",
      "metadata": {
        "colab": {
          "base_uri": "https://localhost:8080/"
        },
        "id": "g4ccZqqt6ith",
        "outputId": "9ba8d1eb-029f-4fb6-9989-9c749ec47391"
      },
      "source": [
        "!pip install clean-text # \"!\" fortæller python, at vi ønsker at køre en kommando udenfor kodeblokken, som påvirker hele vores system"
      ],
      "execution_count": 7,
      "outputs": [
        {
          "output_type": "stream",
          "name": "stdout",
          "text": [
            "Collecting clean-text\n",
            "  Downloading clean_text-0.5.0-py3-none-any.whl (9.8 kB)\n",
            "Collecting ftfy<7.0,>=6.0\n",
            "  Downloading ftfy-6.0.3.tar.gz (64 kB)\n",
            "\u001b[K     |████████████████████████████████| 64 kB 2.6 MB/s \n",
            "\u001b[?25hCollecting emoji\n",
            "  Downloading emoji-1.6.1.tar.gz (170 kB)\n",
            "\u001b[K     |████████████████████████████████| 170 kB 48.7 MB/s \n",
            "\u001b[?25hRequirement already satisfied: wcwidth in /usr/local/lib/python3.7/dist-packages (from ftfy<7.0,>=6.0->clean-text) (0.2.5)\n",
            "Building wheels for collected packages: ftfy, emoji\n",
            "  Building wheel for ftfy (setup.py) ... \u001b[?25l\u001b[?25hdone\n",
            "  Created wheel for ftfy: filename=ftfy-6.0.3-py3-none-any.whl size=41933 sha256=a74bedf87305d8a87bce2c3ecc96b53ec2518ab873e9044d9a1992212bd831ad\n",
            "  Stored in directory: /root/.cache/pip/wheels/19/f5/38/273eb3b5e76dfd850619312f693716ac4518b498f5ffb6f56d\n",
            "  Building wheel for emoji (setup.py) ... \u001b[?25l\u001b[?25hdone\n",
            "  Created wheel for emoji: filename=emoji-1.6.1-py3-none-any.whl size=169314 sha256=52d9a2b152a961245cffc25c975d677d7c106e13eb897f729dc2c124aeab2c83\n",
            "  Stored in directory: /root/.cache/pip/wheels/ea/5f/d3/03d313ddb3c2a1a427bb4690f1621eea60fe6f2a30cc95940f\n",
            "Successfully built ftfy emoji\n",
            "Installing collected packages: ftfy, emoji, clean-text\n",
            "Successfully installed clean-text-0.5.0 emoji-1.6.1 ftfy-6.0.3\n"
          ]
        }
      ]
    },
    {
      "cell_type": "markdown",
      "metadata": {
        "id": "lGpkntMz7RVq"
      },
      "source": [
        "Lad os nu prøve at importere biblioteket igen, nu hvor det er blevet installeret:"
      ]
    },
    {
      "cell_type": "code",
      "metadata": {
        "colab": {
          "base_uri": "https://localhost:8080/"
        },
        "id": "tZHAfU1S7NrH",
        "outputId": "69fdbefc-adf0-43fb-ad29-2cb0b56e41c1"
      },
      "source": [
        "import cleantext"
      ],
      "execution_count": 8,
      "outputs": [
        {
          "output_type": "stream",
          "name": "stderr",
          "text": [
            "Since the GPL-licensed package `unidecode` is not installed, using Python's `unicodedata` package which yields worse results.\n"
          ]
        }
      ]
    },
    {
      "cell_type": "markdown",
      "metadata": {
        "id": "RNAHOCsP7dT0"
      },
      "source": [
        "DET VIRKER! Den brokker sig muligvis over noget omkring `unicode`, men ikke relevant for pointen."
      ]
    },
    {
      "cell_type": "markdown",
      "metadata": {
        "id": "V-MnVj7186ys"
      },
      "source": [
        "### Opgave 2.0: Symbolsk matematik (svær)\n",
        "En af de vigtigeste ting, når man koder, er at kunne bruge Google (eller Duck Duck Go f.eks.) til at finde de ønskede resultater og løsnigner på problemer, som man er stødt ind i. Derfor får I nu en mere åben opgave; beregn følgende integral med biblioteket `sympy`: \n",
        "$$\\int  \\int_0^{\\pi} \\left(\\frac{x\\cdot y}{e^{y}}\\right) dx dy $$"
      ]
    },
    {
      "cell_type": "code",
      "metadata": {
        "id": "j4xmyWCwWfrE"
      },
      "source": [
        "# (indsæt din kode i denne blok)"
      ],
      "execution_count": null,
      "outputs": []
    },
    {
      "cell_type": "markdown",
      "metadata": {
        "id": "4T-xEecvOErp"
      },
      "source": [
        "Svaret kan findes på [GitHub'en](https://github.com/MortenSkovlundHolst/syddjursGym/blob/main/Svar_på_integralspørgsmål.ipynb)"
      ]
    }
  ]
}